{
 "cells": [
  {
   "cell_type": "markdown",
   "metadata": {},
   "source": [
    "### Relatório personalizado em PDF\n",
    "- Biblioteca quantstats\n",
    "- \"qs.reports\" para gerar os relatórios (HTML)\n",
    "- Personalizar o relatório\n",
    "- Converter para PDF"
   ]
  },
  {
   "cell_type": "code",
   "execution_count": null,
   "metadata": {},
   "outputs": [],
   "source": [
    "import quantstats as qs, yfinance as yf"
   ]
  },
  {
   "cell_type": "code",
   "execution_count": null,
   "metadata": {},
   "outputs": [],
   "source": [
    "ativos = yf.download(\"IVV EWZ IBIT\")[\"Adj Close\"].dropna()\n",
    "\n",
    "ativos"
   ]
  },
  {
   "cell_type": "code",
   "execution_count": null,
   "metadata": {},
   "outputs": [],
   "source": [
    "qs.reports.html(\n",
    "    returns=ativos,\n",
    "    template_path=\"economiadozero.html\",\n",
    "    title=\"Relatório 100% em Python\",\n",
    "    output=\"Relatório.html\"\n",
    "    )"
   ]
  }
 ],
 "metadata": {
  "kernelspec": {
   "display_name": "Python 3",
   "language": "python",
   "name": "python3"
  },
  "language_info": {
   "codemirror_mode": {
    "name": "ipython",
    "version": 3
   },
   "file_extension": ".py",
   "mimetype": "text/x-python",
   "name": "python",
   "nbconvert_exporter": "python",
   "pygments_lexer": "ipython3",
   "version": "3.11.3"
  }
 },
 "nbformat": 4,
 "nbformat_minor": 2
}
