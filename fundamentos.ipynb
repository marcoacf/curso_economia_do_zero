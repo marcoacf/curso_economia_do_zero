{
 "cells": [
  {
   "cell_type": "markdown",
   "metadata": {},
   "source": [
    "### Python para análise fundamentalista\n",
    "- Income Statement = DRE\n",
    "- Balance Sheet = Balanço patrimonial\n",
    "- Cash Flow = Fluxo de caixa\n",
    "- Biblioteca \"investpy\" e método .get_stock_financial_summary()\n",
    "- Argumento \"summary_type\": \"balance_sheet\", \"income_statement\" e \"cash_flow_statement\""
   ]
  },
  {
   "cell_type": "code",
   "execution_count": 34,
   "metadata": {},
   "outputs": [
    {
     "data": {
      "text/html": [
       "<div>\n",
       "<style scoped>\n",
       "    .dataframe tbody tr th:only-of-type {\n",
       "        vertical-align: middle;\n",
       "    }\n",
       "\n",
       "    .dataframe tbody tr th {\n",
       "        vertical-align: top;\n",
       "    }\n",
       "\n",
       "    .dataframe thead th {\n",
       "        text-align: right;\n",
       "    }\n",
       "</style>\n",
       "<table border=\"1\" class=\"dataframe\">\n",
       "  <thead>\n",
       "    <tr style=\"text-align: right;\">\n",
       "      <th></th>\n",
       "      <th>Cash From Operating Activities</th>\n",
       "      <th>Cash From Investing Activities</th>\n",
       "      <th>Cash From Financing Activities</th>\n",
       "      <th>Net Change in Cash</th>\n",
       "    </tr>\n",
       "    <tr>\n",
       "      <th>Date</th>\n",
       "      <th></th>\n",
       "      <th></th>\n",
       "      <th></th>\n",
       "      <th></th>\n",
       "    </tr>\n",
       "  </thead>\n",
       "  <tbody>\n",
       "    <tr>\n",
       "      <th>2023-12-31</th>\n",
       "      <td>-2421.0</td>\n",
       "      <td>-31230.0</td>\n",
       "      <td>57466.0</td>\n",
       "      <td>12286.0</td>\n",
       "    </tr>\n",
       "    <tr>\n",
       "      <th>2022-12-31</th>\n",
       "      <td>108567.0</td>\n",
       "      <td>-73270.0</td>\n",
       "      <td>-10648.0</td>\n",
       "      <td>370.0</td>\n",
       "    </tr>\n",
       "    <tr>\n",
       "      <th>2021-12-31</th>\n",
       "      <td>12944.0</td>\n",
       "      <td>-4841.0</td>\n",
       "      <td>9902.0</td>\n",
       "      <td>-1936.0</td>\n",
       "    </tr>\n",
       "    <tr>\n",
       "      <th>2020-12-31</th>\n",
       "      <td>-242459.0</td>\n",
       "      <td>753.0</td>\n",
       "      <td>288395.0</td>\n",
       "      <td>35012.0</td>\n",
       "    </tr>\n",
       "  </tbody>\n",
       "</table>\n",
       "</div>"
      ],
      "text/plain": [
       "            Cash From Operating Activities  Cash From Investing Activities  \\\n",
       "Date                                                                         \n",
       "2023-12-31                         -2421.0                        -31230.0   \n",
       "2022-12-31                        108567.0                        -73270.0   \n",
       "2021-12-31                         12944.0                         -4841.0   \n",
       "2020-12-31                       -242459.0                           753.0   \n",
       "\n",
       "            Cash From Financing Activities  Net Change in Cash  \n",
       "Date                                                            \n",
       "2023-12-31                         57466.0             12286.0  \n",
       "2022-12-31                        -10648.0               370.0  \n",
       "2021-12-31                          9902.0             -1936.0  \n",
       "2020-12-31                        288395.0             35012.0  "
      ]
     },
     "execution_count": 34,
     "metadata": {},
     "output_type": "execute_result"
    }
   ],
   "source": [
    "import investpy\n",
    "\n",
    "dados = investpy.get_stock_financial_summary(stock=\"ITUB3\", country=\"Brazil\", summary_type=\"cash_flow_statement\")\n",
    "\n",
    "dados.sort_index()\n",
    "\n",
    "dados # Tipo Float, quero Integer (int)\n",
    "\n"
   ]
  },
  {
   "cell_type": "markdown",
   "metadata": {},
   "source": [
    "### Mudança de tipos de dados\n",
    "- Transformar via método .astype()\n",
    "- Tratamento rápido de datas .strftime(%d/%m/%Y)"
   ]
  },
  {
   "cell_type": "code",
   "execution_count": 35,
   "metadata": {},
   "outputs": [
    {
     "data": {
      "text/html": [
       "<div>\n",
       "<style scoped>\n",
       "    .dataframe tbody tr th:only-of-type {\n",
       "        vertical-align: middle;\n",
       "    }\n",
       "\n",
       "    .dataframe tbody tr th {\n",
       "        vertical-align: top;\n",
       "    }\n",
       "\n",
       "    .dataframe thead th {\n",
       "        text-align: right;\n",
       "    }\n",
       "</style>\n",
       "<table border=\"1\" class=\"dataframe\">\n",
       "  <thead>\n",
       "    <tr style=\"text-align: right;\">\n",
       "      <th></th>\n",
       "      <th>Cash From Operating Activities</th>\n",
       "      <th>Cash From Investing Activities</th>\n",
       "      <th>Cash From Financing Activities</th>\n",
       "      <th>Net Change in Cash</th>\n",
       "    </tr>\n",
       "    <tr>\n",
       "      <th>Date</th>\n",
       "      <th></th>\n",
       "      <th></th>\n",
       "      <th></th>\n",
       "      <th></th>\n",
       "    </tr>\n",
       "  </thead>\n",
       "  <tbody>\n",
       "    <tr>\n",
       "      <th>2023-12-31</th>\n",
       "      <td>-2421.0</td>\n",
       "      <td>-31230.0</td>\n",
       "      <td>57466.0</td>\n",
       "      <td>12286</td>\n",
       "    </tr>\n",
       "    <tr>\n",
       "      <th>2022-12-31</th>\n",
       "      <td>108567.0</td>\n",
       "      <td>-73270.0</td>\n",
       "      <td>-10648.0</td>\n",
       "      <td>370</td>\n",
       "    </tr>\n",
       "    <tr>\n",
       "      <th>2021-12-31</th>\n",
       "      <td>12944.0</td>\n",
       "      <td>-4841.0</td>\n",
       "      <td>9902.0</td>\n",
       "      <td>-1936</td>\n",
       "    </tr>\n",
       "    <tr>\n",
       "      <th>2020-12-31</th>\n",
       "      <td>-242459.0</td>\n",
       "      <td>753.0</td>\n",
       "      <td>288395.0</td>\n",
       "      <td>35012</td>\n",
       "    </tr>\n",
       "  </tbody>\n",
       "</table>\n",
       "</div>"
      ],
      "text/plain": [
       "            Cash From Operating Activities  Cash From Investing Activities  \\\n",
       "Date                                                                         \n",
       "2023-12-31                         -2421.0                        -31230.0   \n",
       "2022-12-31                        108567.0                        -73270.0   \n",
       "2021-12-31                         12944.0                         -4841.0   \n",
       "2020-12-31                       -242459.0                           753.0   \n",
       "\n",
       "            Cash From Financing Activities  Net Change in Cash  \n",
       "Date                                                            \n",
       "2023-12-31                         57466.0               12286  \n",
       "2022-12-31                        -10648.0                 370  \n",
       "2021-12-31                          9902.0               -1936  \n",
       "2020-12-31                        288395.0               35012  "
      ]
     },
     "execution_count": 35,
     "metadata": {},
     "output_type": "execute_result"
    }
   ],
   "source": [
    "dados[\"Net Change in Cash\"] = dados[\"Net Change in Cash\"].astype(int)\n",
    "\n",
    "dados"
   ]
  },
  {
   "cell_type": "code",
   "execution_count": 36,
   "metadata": {},
   "outputs": [
    {
     "data": {
      "text/plain": [
       "<Axes: title={'center': 'Margem Líquida'}, xlabel='Date'>"
      ]
     },
     "execution_count": 36,
     "metadata": {},
     "output_type": "execute_result"
    },
    {
     "data": {
      "image/png": "[encoded data removed]",
      "text/plain": [
       "<Figure size 640x480 with 1 Axes>"
      ]
     },
     "metadata": {},
     "output_type": "display_data"
    }
   ],
   "source": [
    "dados = investpy.get_stock_financial_summary(stock=\"EGIE3\", country=\"Brazil\", summary_type=\"income_statement\")\n",
    "dados[\"Margem Líquida\"] = round((dados[\"Net Income\"] / dados[\"Total Revenue\"]) * 100, 2)\n",
    "dados[\"Margem Líquida\"].plot(title=\"Margem Líquida\")"
   ]
  },
  {
   "cell_type": "code",
   "execution_count": 37,
   "metadata": {},
   "outputs": [
    {
     "data": {
      "text/html": [
       "<div>\n",
       "<style scoped>\n",
       "    .dataframe tbody tr th:only-of-type {\n",
       "        vertical-align: middle;\n",
       "    }\n",
       "\n",
       "    .dataframe tbody tr th {\n",
       "        vertical-align: top;\n",
       "    }\n",
       "\n",
       "    .dataframe thead th {\n",
       "        text-align: right;\n",
       "    }\n",
       "</style>\n",
       "<table border=\"1\" class=\"dataframe\">\n",
       "  <thead>\n",
       "    <tr style=\"text-align: right;\">\n",
       "      <th></th>\n",
       "      <th>Total Revenue</th>\n",
       "      <th>Operating Income</th>\n",
       "      <th>Net Income</th>\n",
       "      <th>Margem Líquida</th>\n",
       "    </tr>\n",
       "    <tr>\n",
       "      <th>Date</th>\n",
       "      <th></th>\n",
       "      <th></th>\n",
       "      <th></th>\n",
       "      <th></th>\n",
       "    </tr>\n",
       "  </thead>\n",
       "  <tbody>\n",
       "    <tr>\n",
       "      <th>31/12/2023</th>\n",
       "      <td>10747.78</td>\n",
       "      <td>5456.01</td>\n",
       "      <td>3429.56</td>\n",
       "      <td>31.91</td>\n",
       "    </tr>\n",
       "    <tr>\n",
       "      <th>31/12/2022</th>\n",
       "      <td>11906.60</td>\n",
       "      <td>5178.31</td>\n",
       "      <td>2663.08</td>\n",
       "      <td>22.37</td>\n",
       "    </tr>\n",
       "    <tr>\n",
       "      <th>31/12/2021</th>\n",
       "      <td>12540.67</td>\n",
       "      <td>4902.66</td>\n",
       "      <td>1563.72</td>\n",
       "      <td>12.47</td>\n",
       "    </tr>\n",
       "    <tr>\n",
       "      <th>31/12/2020</th>\n",
       "      <td>12259.16</td>\n",
       "      <td>5645.94</td>\n",
       "      <td>2797.09</td>\n",
       "      <td>22.82</td>\n",
       "    </tr>\n",
       "  </tbody>\n",
       "</table>\n",
       "</div>"
      ],
      "text/plain": [
       "            Total Revenue  Operating Income  Net Income  Margem Líquida\n",
       "Date                                                                   \n",
       "31/12/2023       10747.78           5456.01     3429.56           31.91\n",
       "31/12/2022       11906.60           5178.31     2663.08           22.37\n",
       "31/12/2021       12540.67           4902.66     1563.72           12.47\n",
       "31/12/2020       12259.16           5645.94     2797.09           22.82"
      ]
     },
     "execution_count": 37,
     "metadata": {},
     "output_type": "execute_result"
    }
   ],
   "source": [
    "dados.index = dados.index.strftime(\"%d/%m/%Y\")\n",
    "\n",
    "dados"
   ]
  },
  {
   "cell_type": "code",
   "execution_count": 40,
   "metadata": {},
   "outputs": [
    {
     "name": "stdout",
     "output_type": "stream",
     "text": [
      "            Total Revenue  Net Income\n",
      "Date                                 \n",
      "2023-12-31       314339.0     33105.0\n",
      "2022-12-31       259439.0     29207.0\n",
      "2021-12-31       195301.0     26760.0\n",
      "2020-12-31       184549.0     18896.0\n",
      "            Total Revenue  Operating Income  Net Income\n",
      "Date                                                   \n",
      "2023-12-31       10747.78           5456.01     3429.56\n",
      "2022-12-31       11906.60           5178.31     2663.08\n",
      "2021-12-31       12540.67           4902.66     1563.72\n",
      "2020-12-31       12259.16           5645.94     2797.09\n"
     ]
    }
   ],
   "source": [
    "for stock in [\"ITUB3\", \"EGIE3\"]:\n",
    "    dados = investpy.get_stock_financial_summary(stock=stock, country=\"Brazil\", summary_type=\"income_statement\")\n",
    "    print(dados)\n",
    "\n",
    "# Loops: For e While"
   ]
  },
  {
   "cell_type": "code",
   "execution_count": 38,
   "metadata": {},
   "outputs": [],
   "source": [
    "# import investpy\n",
    "\n",
    "# def análise(ação):\n",
    "#     ativo = investpy.get_stock_financial_summary(stock=ação, country=\"Brazil\", summary_type=\"income_statement\", period=\"annual\").sort_index()\n",
    "#     ativo.index = ativo.index.strftime(\"%d/%m/%Y\")\n",
    "\n",
    "#     for coluna in list(ativo.columns):\n",
    "#         ativo[coluna] = ativo[coluna].astype(int)\n",
    "\n",
    "#     ativo[\"Margem Líquida\"] = round(ativo[\"Net Income\"] / ativo[\"Total Revenue\"], 4)\n",
    "#     return ativo\n",
    "\n",
    "# dados = análise(\"ITUB3\")"
   ]
  }
 ],
 "metadata": {
  "kernelspec": {
   "display_name": "Python 3",
   "language": "python",
   "name": "python3"
  },
  "language_info": {
   "codemirror_mode": {
    "name": "ipython",
    "version": 3
   },
   "file_extension": ".py",
   "mimetype": "text/x-python",
   "name": "python",
   "nbconvert_exporter": "python",
   "pygments_lexer": "ipython3",
   "version": "3.11.3"
  }
 },
 "nbformat": 4,
 "nbformat_minor": 2
}
