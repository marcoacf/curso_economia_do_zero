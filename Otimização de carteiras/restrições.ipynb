{
 "cells": [
  {
   "cell_type": "code",
   "execution_count": 14,
   "metadata": {},
   "outputs": [
    {
     "data": {
      "text/html": [
       "<div>\n",
       "<style scoped>\n",
       "    .dataframe tbody tr th:only-of-type {\n",
       "        vertical-align: middle;\n",
       "    }\n",
       "\n",
       "    .dataframe tbody tr th {\n",
       "        vertical-align: top;\n",
       "    }\n",
       "\n",
       "    .dataframe thead th {\n",
       "        text-align: right;\n",
       "    }\n",
       "</style>\n",
       "<table border=\"1\" class=\"dataframe\">\n",
       "  <thead>\n",
       "    <tr style=\"text-align: right;\">\n",
       "      <th></th>\n",
       "      <th>Ativos</th>\n",
       "      <th>Setor</th>\n",
       "    </tr>\n",
       "  </thead>\n",
       "  <tbody>\n",
       "    <tr>\n",
       "      <th>0</th>\n",
       "      <td>FB</td>\n",
       "      <td>Tecnologia</td>\n",
       "    </tr>\n",
       "    <tr>\n",
       "      <th>1</th>\n",
       "      <td>GOOGL</td>\n",
       "      <td>Tecnologia</td>\n",
       "    </tr>\n",
       "    <tr>\n",
       "      <th>2</th>\n",
       "      <td>NTFX</td>\n",
       "      <td>Tecnologia</td>\n",
       "    </tr>\n",
       "    <tr>\n",
       "      <th>3</th>\n",
       "      <td>BAC</td>\n",
       "      <td>Financeiro</td>\n",
       "    </tr>\n",
       "    <tr>\n",
       "      <th>4</th>\n",
       "      <td>WFC</td>\n",
       "      <td>Financeiro</td>\n",
       "    </tr>\n",
       "    <tr>\n",
       "      <th>5</th>\n",
       "      <td>TLT</td>\n",
       "      <td>Renda Fixa</td>\n",
       "    </tr>\n",
       "    <tr>\n",
       "      <th>6</th>\n",
       "      <td>SHV</td>\n",
       "      <td>Renda Fixa</td>\n",
       "    </tr>\n",
       "  </tbody>\n",
       "</table>\n",
       "</div>"
      ],
      "text/plain": [
       "  Ativos       Setor\n",
       "0     FB  Tecnologia\n",
       "1  GOOGL  Tecnologia\n",
       "2   NTFX  Tecnologia\n",
       "3    BAC  Financeiro\n",
       "4    WFC  Financeiro\n",
       "5    TLT  Renda Fixa\n",
       "6    SHV  Renda Fixa"
      ]
     },
     "execution_count": 14,
     "metadata": {},
     "output_type": "execute_result"
    }
   ],
   "source": [
    "import riskfolio as rp, pandas as pd\n",
    "\n",
    "carteira = {'Ativos': ['FB', 'GOOGL', 'NTFX', 'BAC', 'WFC', 'TLT', 'SHV'],\n",
    "                 'Setor': ['Tecnologia', 'Tecnologia', 'Tecnologia',\n",
    "                             'Financeiro', 'Financeiro', 'Renda Fixa', 'Renda Fixa'],}\n",
    "\n",
    "carteira = pd.DataFrame(asset_classes)\n",
    "\n",
    "carteira"
   ]
  },
  {
   "cell_type": "code",
   "execution_count": 15,
   "metadata": {},
   "outputs": [
    {
     "data": {
      "text/html": [
       "<div>\n",
       "<style scoped>\n",
       "    .dataframe tbody tr th:only-of-type {\n",
       "        vertical-align: middle;\n",
       "    }\n",
       "\n",
       "    .dataframe tbody tr th {\n",
       "        vertical-align: top;\n",
       "    }\n",
       "\n",
       "    .dataframe thead th {\n",
       "        text-align: right;\n",
       "    }\n",
       "</style>\n",
       "<table border=\"1\" class=\"dataframe\">\n",
       "  <thead>\n",
       "    <tr style=\"text-align: right;\">\n",
       "      <th></th>\n",
       "      <th>Disabled</th>\n",
       "      <th>Type</th>\n",
       "      <th>Set</th>\n",
       "      <th>Position</th>\n",
       "      <th>Sign</th>\n",
       "      <th>Weight</th>\n",
       "      <th>Type Relative</th>\n",
       "      <th>Relative Set</th>\n",
       "      <th>Relative</th>\n",
       "      <th>Factor</th>\n",
       "    </tr>\n",
       "  </thead>\n",
       "  <tbody>\n",
       "    <tr>\n",
       "      <th>0</th>\n",
       "      <td>False</td>\n",
       "      <td>Classes</td>\n",
       "      <td>Setor</td>\n",
       "      <td>Tecnologia</td>\n",
       "      <td>&lt;=</td>\n",
       "      <td>0.33</td>\n",
       "      <td></td>\n",
       "      <td></td>\n",
       "      <td></td>\n",
       "      <td></td>\n",
       "    </tr>\n",
       "    <tr>\n",
       "      <th>1</th>\n",
       "      <td>False</td>\n",
       "      <td>Classes</td>\n",
       "      <td>Setor</td>\n",
       "      <td>Financeiro</td>\n",
       "      <td>&lt;=</td>\n",
       "      <td>0.33</td>\n",
       "      <td></td>\n",
       "      <td></td>\n",
       "      <td></td>\n",
       "      <td></td>\n",
       "    </tr>\n",
       "    <tr>\n",
       "      <th>2</th>\n",
       "      <td>False</td>\n",
       "      <td>Classes</td>\n",
       "      <td>Setor</td>\n",
       "      <td>Renda Fixa</td>\n",
       "      <td>&lt;=</td>\n",
       "      <td>0.33</td>\n",
       "      <td></td>\n",
       "      <td></td>\n",
       "      <td></td>\n",
       "      <td></td>\n",
       "    </tr>\n",
       "  </tbody>\n",
       "</table>\n",
       "</div>"
      ],
      "text/plain": [
       "   Disabled     Type    Set    Position Sign  Weight Type Relative  \\\n",
       "0     False  Classes  Setor  Tecnologia   <=    0.33                 \n",
       "1     False  Classes  Setor  Financeiro   <=    0.33                 \n",
       "2     False  Classes  Setor  Renda Fixa   <=    0.33                 \n",
       "\n",
       "  Relative Set Relative Factor  \n",
       "0                               \n",
       "1                               \n",
       "2                               "
      ]
     },
     "execution_count": 15,
     "metadata": {},
     "output_type": "execute_result"
    }
   ],
   "source": [
    "restrições = {'Disabled': [False, False, False],\n",
    "               'Type': ['Classes', 'Classes', 'Classes'],\n",
    "               'Set': ['Setor', 'Setor', 'Setor'],\n",
    "               'Position': ['Tecnologia', 'Financeiro', 'Renda Fixa'],\n",
    "               'Sign': ['<=', '<=', '<='],\n",
    "               'Weight': [0.33, 0.33, 0.33],\n",
    "               'Type Relative': ['', '', ''],\n",
    "               'Relative Set': ['', '', ''],\n",
    "               'Relative': ['', '', ''],\n",
    "               'Factor': ['', '', '']\n",
    "               }\n",
    "\n",
    "restrições = pd.DataFrame(restrições)\n",
    "\n",
    "restrições"
   ]
  },
  {
   "cell_type": "code",
   "execution_count": 16,
   "metadata": {},
   "outputs": [],
   "source": [
    "A, B = rp.assets_constraints(restrições, carteira)"
   ]
  },
  {
   "cell_type": "code",
   "execution_count": 18,
   "metadata": {},
   "outputs": [
    {
     "data": {
      "text/plain": [
       "array([[-0.33],\n",
       "       [-0.33],\n",
       "       [-0.33]])"
      ]
     },
     "execution_count": 18,
     "metadata": {},
     "output_type": "execute_result"
    }
   ],
   "source": [
    "B"
   ]
  }
 ],
 "metadata": {
  "kernelspec": {
   "display_name": "Python 3",
   "language": "python",
   "name": "python3"
  },
  "language_info": {
   "codemirror_mode": {
    "name": "ipython",
    "version": 3
   },
   "file_extension": ".py",
   "mimetype": "text/x-python",
   "name": "python",
   "nbconvert_exporter": "python",
   "pygments_lexer": "ipython3",
   "version": "3.11.3"
  }
 },
 "nbformat": 4,
 "nbformat_minor": 2
}
