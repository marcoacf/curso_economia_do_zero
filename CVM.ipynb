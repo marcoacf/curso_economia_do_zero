{
 "cells": [
  {
   "cell_type": "code",
   "execution_count": 35,
   "metadata": {},
   "outputs": [],
   "source": [
    "import pandas as pd"
   ]
  },
  {
   "cell_type": "code",
   "execution_count": 36,
   "metadata": {},
   "outputs": [
    {
     "data": {
      "text/html": [
       "<div>\n",
       "<style scoped>\n",
       "    .dataframe tbody tr th:only-of-type {\n",
       "        vertical-align: middle;\n",
       "    }\n",
       "\n",
       "    .dataframe tbody tr th {\n",
       "        vertical-align: top;\n",
       "    }\n",
       "\n",
       "    .dataframe thead th {\n",
       "        text-align: right;\n",
       "    }\n",
       "</style>\n",
       "<table border=\"1\" class=\"dataframe\">\n",
       "  <thead>\n",
       "    <tr style=\"text-align: right;\">\n",
       "      <th></th>\n",
       "      <th>CNPJ</th>\n",
       "      <th>NOME</th>\n",
       "      <th>COTA</th>\n",
       "      <th>PL</th>\n",
       "      <th>CAPTAÇÃO</th>\n",
       "      <th>RESGATES</th>\n",
       "      <th>COTISTAS</th>\n",
       "      <th>Captação Líquida</th>\n",
       "    </tr>\n",
       "    <tr>\n",
       "      <th>DATA</th>\n",
       "      <th></th>\n",
       "      <th></th>\n",
       "      <th></th>\n",
       "      <th></th>\n",
       "      <th></th>\n",
       "      <th></th>\n",
       "      <th></th>\n",
       "      <th></th>\n",
       "    </tr>\n",
       "  </thead>\n",
       "  <tbody>\n",
       "    <tr>\n",
       "      <th>2024-01-02</th>\n",
       "      <td>10.500.884/0001-05</td>\n",
       "      <td>FIA</td>\n",
       "      <td>20.934817</td>\n",
       "      <td>1.792092e+09</td>\n",
       "      <td>2817811.37</td>\n",
       "      <td>5733796.49</td>\n",
       "      <td>24917</td>\n",
       "      <td>-2915985.12</td>\n",
       "    </tr>\n",
       "    <tr>\n",
       "      <th>2024-01-03</th>\n",
       "      <td>10.500.884/0001-05</td>\n",
       "      <td>FIA</td>\n",
       "      <td>20.903796</td>\n",
       "      <td>1.791572e+09</td>\n",
       "      <td>3081170.97</td>\n",
       "      <td>945756.05</td>\n",
       "      <td>24993</td>\n",
       "      <td>2135414.92</td>\n",
       "    </tr>\n",
       "    <tr>\n",
       "      <th>2024-01-04</th>\n",
       "      <td>10.500.884/0001-05</td>\n",
       "      <td>FIA</td>\n",
       "      <td>20.594659</td>\n",
       "      <td>1.766061e+09</td>\n",
       "      <td>2188261.50</td>\n",
       "      <td>1204265.89</td>\n",
       "      <td>25045</td>\n",
       "      <td>983995.61</td>\n",
       "    </tr>\n",
       "    <tr>\n",
       "      <th>2024-01-05</th>\n",
       "      <td>10.500.884/0001-05</td>\n",
       "      <td>FIA</td>\n",
       "      <td>20.778160</td>\n",
       "      <td>1.788679e+09</td>\n",
       "      <td>6882751.02</td>\n",
       "      <td>0.00</td>\n",
       "      <td>25108</td>\n",
       "      <td>6882751.02</td>\n",
       "    </tr>\n",
       "    <tr>\n",
       "      <th>2024-01-08</th>\n",
       "      <td>10.500.884/0001-05</td>\n",
       "      <td>FIA</td>\n",
       "      <td>20.919334</td>\n",
       "      <td>1.801153e+09</td>\n",
       "      <td>1754445.75</td>\n",
       "      <td>1433266.98</td>\n",
       "      <td>25132</td>\n",
       "      <td>321178.77</td>\n",
       "    </tr>\n",
       "    <tr>\n",
       "      <th>...</th>\n",
       "      <td>...</td>\n",
       "      <td>...</td>\n",
       "      <td>...</td>\n",
       "      <td>...</td>\n",
       "      <td>...</td>\n",
       "      <td>...</td>\n",
       "      <td>...</td>\n",
       "      <td>...</td>\n",
       "    </tr>\n",
       "    <tr>\n",
       "      <th>2024-05-09</th>\n",
       "      <td>40.674.516/0001-36</td>\n",
       "      <td>GLOBAL</td>\n",
       "      <td>1.237610</td>\n",
       "      <td>5.812770e+07</td>\n",
       "      <td>20000.00</td>\n",
       "      <td>0.00</td>\n",
       "      <td>303</td>\n",
       "      <td>20000.00</td>\n",
       "    </tr>\n",
       "    <tr>\n",
       "      <th>2024-05-10</th>\n",
       "      <td>40.674.516/0001-36</td>\n",
       "      <td>GLOBAL</td>\n",
       "      <td>1.242981</td>\n",
       "      <td>5.837998e+07</td>\n",
       "      <td>0.00</td>\n",
       "      <td>0.00</td>\n",
       "      <td>303</td>\n",
       "      <td>0.00</td>\n",
       "    </tr>\n",
       "    <tr>\n",
       "      <th>2024-05-13</th>\n",
       "      <td>40.674.516/0001-36</td>\n",
       "      <td>GLOBAL</td>\n",
       "      <td>1.248538</td>\n",
       "      <td>5.870265e+07</td>\n",
       "      <td>61700.00</td>\n",
       "      <td>0.00</td>\n",
       "      <td>304</td>\n",
       "      <td>61700.00</td>\n",
       "    </tr>\n",
       "    <tr>\n",
       "      <th>2024-05-14</th>\n",
       "      <td>40.674.516/0001-36</td>\n",
       "      <td>GLOBAL</td>\n",
       "      <td>1.249661</td>\n",
       "      <td>5.881975e+07</td>\n",
       "      <td>64259.00</td>\n",
       "      <td>0.00</td>\n",
       "      <td>306</td>\n",
       "      <td>64259.00</td>\n",
       "    </tr>\n",
       "    <tr>\n",
       "      <th>2024-05-15</th>\n",
       "      <td>40.674.516/0001-36</td>\n",
       "      <td>GLOBAL</td>\n",
       "      <td>1.257809</td>\n",
       "      <td>5.922624e+07</td>\n",
       "      <td>23000.00</td>\n",
       "      <td>0.00</td>\n",
       "      <td>306</td>\n",
       "      <td>23000.00</td>\n",
       "    </tr>\n",
       "  </tbody>\n",
       "</table>\n",
       "<p>279 rows × 8 columns</p>\n",
       "</div>"
      ],
      "text/plain": [
       "                          CNPJ    NOME       COTA            PL    CAPTAÇÃO  \\\n",
       "DATA                                                                          \n",
       "2024-01-02  10.500.884/0001-05     FIA  20.934817  1.792092e+09  2817811.37   \n",
       "2024-01-03  10.500.884/0001-05     FIA  20.903796  1.791572e+09  3081170.97   \n",
       "2024-01-04  10.500.884/0001-05     FIA  20.594659  1.766061e+09  2188261.50   \n",
       "2024-01-05  10.500.884/0001-05     FIA  20.778160  1.788679e+09  6882751.02   \n",
       "2024-01-08  10.500.884/0001-05     FIA  20.919334  1.801153e+09  1754445.75   \n",
       "...                        ...     ...        ...           ...         ...   \n",
       "2024-05-09  40.674.516/0001-36  GLOBAL   1.237610  5.812770e+07    20000.00   \n",
       "2024-05-10  40.674.516/0001-36  GLOBAL   1.242981  5.837998e+07        0.00   \n",
       "2024-05-13  40.674.516/0001-36  GLOBAL   1.248538  5.870265e+07    61700.00   \n",
       "2024-05-14  40.674.516/0001-36  GLOBAL   1.249661  5.881975e+07    64259.00   \n",
       "2024-05-15  40.674.516/0001-36  GLOBAL   1.257809  5.922624e+07    23000.00   \n",
       "\n",
       "              RESGATES  COTISTAS  Captação Líquida  \n",
       "DATA                                                \n",
       "2024-01-02  5733796.49     24917       -2915985.12  \n",
       "2024-01-03   945756.05     24993        2135414.92  \n",
       "2024-01-04  1204265.89     25045         983995.61  \n",
       "2024-01-05        0.00     25108        6882751.02  \n",
       "2024-01-08  1433266.98     25132         321178.77  \n",
       "...                ...       ...               ...  \n",
       "2024-05-09        0.00       303          20000.00  \n",
       "2024-05-10        0.00       303              0.00  \n",
       "2024-05-13        0.00       304          61700.00  \n",
       "2024-05-14        0.00       306          64259.00  \n",
       "2024-05-15        0.00       306          23000.00  \n",
       "\n",
       "[279 rows x 8 columns]"
      ]
     },
     "execution_count": 36,
     "metadata": {},
     "output_type": "execute_result"
    }
   ],
   "source": [
    "dados = pd.read_excel(\"CVM.xlsx\")\n",
    "dados = dados.drop(columns=\"Unnamed: 0\")\n",
    "dados = dados.set_index(\"DATA\")\n",
    "dados[\"Captação Líquida\"] = dados[\"CAPTAÇÃO\"] - dados[\"RESGATES\"]\n",
    "dados # DataFrames (df)"
   ]
  },
  {
   "cell_type": "code",
   "execution_count": 37,
   "metadata": {},
   "outputs": [
    {
     "data": {
      "text/plain": [
       "<Axes: xlabel='DATA'>"
      ]
     },
     "execution_count": 37,
     "metadata": {},
     "output_type": "execute_result"
    },
    {
     "data": {
      "image/png": "[encoded data removed]",
      "text/plain": [
       "<Figure size 640x480 with 1 Axes>"
      ]
     },
     "metadata": {},
     "output_type": "display_data"
    }
   ],
   "source": [
    "fundo_global = dados[dados[\"NOME\"] == \"GLOBAL\"]\n",
    "fundo_global[\"COTISTAS\"].plot()"
   ]
  },
  {
   "cell_type": "markdown",
   "metadata": {},
   "source": [
    "### Tipos de dados\n",
    "- Texto (string)\n",
    "- Número (int, float)\n",
    "- Data (date e datetime)\n",
    "- Boolean (True ou False)"
   ]
  },
  {
   "cell_type": "code",
   "execution_count": 38,
   "metadata": {},
   "outputs": [
    {
     "data": {
      "text/plain": [
       "bool"
      ]
     },
     "execution_count": 38,
     "metadata": {},
     "output_type": "execute_result"
    }
   ],
   "source": [
    "x = \"Economia do Zero\"\n",
    "y = \"10\" # 10 é diferente de 10.0 e \"10\"\n",
    "\n",
    "import datetime # Módulo e não bibliotecas (library ou lib)\n",
    "\n",
    "data = datetime.date(2024, 1, 1) # Brasil: 01/01/2024 (dia/mês/ano)\n",
    "\n",
    "correto = False\n",
    "\n",
    "type(correto)\n",
    "\n",
    "# Integer = inteiro"
   ]
  },
  {
   "cell_type": "code",
   "execution_count": 40,
   "metadata": {},
   "outputs": [
    {
     "name": "stdout",
     "output_type": "stream",
     "text": [
      "<class 'pandas.core.frame.DataFrame'>\n",
      "DatetimeIndex: 279 entries, 2024-01-02 to 2024-05-15\n",
      "Data columns (total 8 columns):\n",
      " #   Column            Non-Null Count  Dtype  \n",
      "---  ------            --------------  -----  \n",
      " 0   CNPJ              279 non-null    object \n",
      " 1   NOME              279 non-null    object \n",
      " 2   COTA              279 non-null    float64\n",
      " 3   PL                279 non-null    float64\n",
      " 4   CAPTAÇÃO          279 non-null    float64\n",
      " 5   RESGATES          279 non-null    float64\n",
      " 6   COTISTAS          279 non-null    int64  \n",
      " 7   Captação Líquida  279 non-null    float64\n",
      "dtypes: float64(5), int64(1), object(2)\n",
      "memory usage: 19.6+ KB\n"
     ]
    }
   ],
   "source": [
    "dados.info()"
   ]
  },
  {
   "cell_type": "markdown",
   "metadata": {},
   "source": [
    "### Agrupamentos de dados\n",
    "- Listas\n",
    "- Dicionários"
   ]
  },
  {
   "cell_type": "code",
   "execution_count": 65,
   "metadata": {},
   "outputs": [
    {
     "data": {
      "text/plain": [
       "(10, 2)"
      ]
     },
     "execution_count": 65,
     "metadata": {},
     "output_type": "execute_result"
    }
   ],
   "source": [
    "exemplo1 = [1, 2, 3, 4, 5] # Colchetes = squared brackets\n",
    "\n",
    "# exemplo2 = {\n",
    "#     \"João\": \"Júnior\",\n",
    "#     \"Pedro\": \"Sênior\",\n",
    "#     \"Luiz\": \"Estagiário\"\n",
    "#     } # Curly brackets\n",
    "\n",
    "# exemplo2.values()\n",
    "\n",
    "exemplo1.append(10) # Adição\n",
    "\n",
    "exemplo1[1:3]\n",
    "\n",
    "(10, 2) # Tupla"
   ]
  }
 ],
 "metadata": {
  "kernelspec": {
   "display_name": "Python 3",
   "language": "python",
   "name": "python3"
  },
  "language_info": {
   "codemirror_mode": {
    "name": "ipython",
    "version": 3
   },
   "file_extension": ".py",
   "mimetype": "text/x-python",
   "name": "python",
   "nbconvert_exporter": "python",
   "pygments_lexer": "ipython3",
   "version": "3.11.3"
  }
 },
 "nbformat": 4,
 "nbformat_minor": 2
}
