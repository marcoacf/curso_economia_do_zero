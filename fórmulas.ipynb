{
 "cells": [
  {
   "cell_type": "markdown",
   "metadata": {},
   "source": [
    "### Funções próprias\n",
    "- \"def\" e \"return\"\n",
    "- Fórmulas estáticas\n",
    "- Fórmulas interativas"
   ]
  },
  {
   "cell_type": "code",
   "execution_count": 2,
   "metadata": {},
   "outputs": [],
   "source": [
    "import pandas as pd, yfinance as yf"
   ]
  },
  {
   "cell_type": "code",
   "execution_count": 7,
   "metadata": {},
   "outputs": [],
   "source": [
    "def SP500():\n",
    "    dados = yf.download(\"IVV\")\n",
    "    dados = dados[\"Adj Close\"]\n",
    "    return dados"
   ]
  },
  {
   "cell_type": "code",
   "execution_count": 8,
   "metadata": {},
   "outputs": [
    {
     "name": "stdout",
     "output_type": "stream",
     "text": [
      "[*********************100%%**********************]  1 of 1 completed\n"
     ]
    },
    {
     "name": "stderr",
     "output_type": "stream",
     "text": [
      "c:\\Users\\felip\\AppData\\Local\\Programs\\Python\\Python311\\Lib\\site-packages\\yfinance\\utils.py:771: FutureWarning: The 'unit' keyword in TimedeltaIndex construction is deprecated and will be removed in a future version. Use pd.to_timedelta instead.\n",
      "  df.index += _pd.TimedeltaIndex(dst_error_hours, 'h')\n"
     ]
    },
    {
     "data": {
      "text/plain": [
       "Date\n",
       "2000-05-19     90.888176\n",
       "2000-05-22     90.322891\n",
       "2000-05-23     88.950012\n",
       "2000-05-24     90.282494\n",
       "2000-05-25     89.454765\n",
       "                 ...    \n",
       "2024-05-23    528.640015\n",
       "2024-05-24    532.150024\n",
       "2024-05-28    532.559998\n",
       "2024-05-29    528.750000\n",
       "2024-05-30    525.320007\n",
       "Name: Adj Close, Length: 6045, dtype: float64"
      ]
     },
     "execution_count": 8,
     "metadata": {},
     "output_type": "execute_result"
    }
   ],
   "source": [
    "SP500()"
   ]
  },
  {
   "cell_type": "code",
   "execution_count": 9,
   "metadata": {},
   "outputs": [],
   "source": [
    "def escolhas(ativo):\n",
    "    dados = yf.download(ativo)[\"Adj Close\"]\n",
    "    return dados"
   ]
  },
  {
   "cell_type": "code",
   "execution_count": 13,
   "metadata": {},
   "outputs": [
    {
     "name": "stdout",
     "output_type": "stream",
     "text": [
      "[*********************100%%**********************]  1 of 1 completed\n"
     ]
    },
    {
     "name": "stderr",
     "output_type": "stream",
     "text": [
      "c:\\Users\\felip\\AppData\\Local\\Programs\\Python\\Python311\\Lib\\site-packages\\yfinance\\utils.py:771: FutureWarning: The 'unit' keyword in TimedeltaIndex construction is deprecated and will be removed in a future version. Use pd.to_timedelta instead.\n",
      "  df.index += _pd.TimedeltaIndex(dst_error_hours, 'h')\n"
     ]
    },
    {
     "data": {
      "text/plain": [
       "Date\n",
       "2023-03-07     80.620827\n",
       "2023-03-08     81.043365\n",
       "2023-03-09     81.001114\n",
       "2023-03-10     80.705338\n",
       "2023-03-13     81.119423\n",
       "                 ...    \n",
       "2024-05-23    112.199997\n",
       "2024-05-24    112.199997\n",
       "2024-05-27    112.410004\n",
       "2024-05-28    112.790001\n",
       "2024-05-29    112.809998\n",
       "Name: Adj Close, Length: 307, dtype: float64"
      ]
     },
     "execution_count": 13,
     "metadata": {},
     "output_type": "execute_result"
    }
   ],
   "source": [
    "escolhas(\"RINV11.SA\") # FII da Real Investor"
   ]
  },
  {
   "cell_type": "code",
   "execution_count": null,
   "metadata": {},
   "outputs": [],
   "source": [
    "escolhas()"
   ]
  }
 ],
 "metadata": {
  "kernelspec": {
   "display_name": "Python 3",
   "language": "python",
   "name": "python3"
  },
  "language_info": {
   "codemirror_mode": {
    "name": "ipython",
    "version": 3
   },
   "file_extension": ".py",
   "mimetype": "text/x-python",
   "name": "python",
   "nbconvert_exporter": "python",
   "pygments_lexer": "ipython3",
   "version": "3.11.3"
  }
 },
 "nbformat": 4,
 "nbformat_minor": 2
}
