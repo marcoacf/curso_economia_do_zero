{
 "cells": [
  {
   "cell_type": "markdown",
   "metadata": {},
   "source": [
    "### Substituindoo Excel\n",
    "- Groupby simples e avançado (método \"agg\")\n",
    "- Tabela Dinâmica (pivot_table: lembrar do \"aggfunc\")\n",
    "- Transpose (T)\n",
    "- Context Manager\n",
    "- Exportar para Excel simples e avançado (ExcelWriter, argumento \"sheet_name\")"
   ]
  },
  {
   "cell_type": "code",
   "execution_count": 49,
   "metadata": {},
   "outputs": [
    {
     "data": {
      "text/html": [
       "<div>\n",
       "<style scoped>\n",
       "    .dataframe tbody tr th:only-of-type {\n",
       "        vertical-align: middle;\n",
       "    }\n",
       "\n",
       "    .dataframe tbody tr th {\n",
       "        vertical-align: top;\n",
       "    }\n",
       "\n",
       "    .dataframe thead th {\n",
       "        text-align: right;\n",
       "    }\n",
       "</style>\n",
       "<table border=\"1\" class=\"dataframe\">\n",
       "  <thead>\n",
       "    <tr style=\"text-align: right;\">\n",
       "      <th>NOME</th>\n",
       "      <th>FIA</th>\n",
       "      <th>FIM</th>\n",
       "      <th>GLOBAL</th>\n",
       "    </tr>\n",
       "  </thead>\n",
       "  <tbody>\n",
       "    <tr>\n",
       "      <th>COTA</th>\n",
       "      <td>2.080277e+01</td>\n",
       "      <td>2.364408e+00</td>\n",
       "      <td>1.169402e+00</td>\n",
       "    </tr>\n",
       "    <tr>\n",
       "      <th>PL</th>\n",
       "      <td>1.746085e+09</td>\n",
       "      <td>5.858084e+08</td>\n",
       "      <td>4.256552e+07</td>\n",
       "    </tr>\n",
       "    <tr>\n",
       "      <th>RESGATES</th>\n",
       "      <td>9.814225e+06</td>\n",
       "      <td>4.065520e+06</td>\n",
       "      <td>8.044010e+05</td>\n",
       "    </tr>\n",
       "  </tbody>\n",
       "</table>\n",
       "</div>"
      ],
      "text/plain": [
       "NOME               FIA           FIM        GLOBAL\n",
       "COTA      2.080277e+01  2.364408e+00  1.169402e+00\n",
       "PL        1.746085e+09  5.858084e+08  4.256552e+07\n",
       "RESGATES  9.814225e+06  4.065520e+06  8.044010e+05"
      ]
     },
     "execution_count": 49,
     "metadata": {},
     "output_type": "execute_result"
    }
   ],
   "source": [
    "import pandas as pd\n",
    "\n",
    "dados = pd.read_excel(\"CVM.xlsx\", index_col=\"DATA\")\n",
    "dados.drop(\"Unnamed: 0\", axis=1, inplace=True)\n",
    "\n",
    "dados = dados.groupby(\"NOME\").agg({\n",
    "        \"COTA\": \"mean\",\n",
    "        \"PL\": \"min\",\n",
    "        \"RESGATES\": \"max\"\n",
    "    }).T # max, min, sum, mean (não usar \"average\")\n",
    "\n",
    "dados"
   ]
  },
  {
   "cell_type": "code",
   "execution_count": 45,
   "metadata": {},
   "outputs": [
    {
     "data": {
      "text/html": [
       "<div>\n",
       "<style scoped>\n",
       "    .dataframe tbody tr th:only-of-type {\n",
       "        vertical-align: middle;\n",
       "    }\n",
       "\n",
       "    .dataframe tbody tr th {\n",
       "        vertical-align: top;\n",
       "    }\n",
       "\n",
       "    .dataframe thead th {\n",
       "        text-align: right;\n",
       "    }\n",
       "</style>\n",
       "<table border=\"1\" class=\"dataframe\">\n",
       "  <thead>\n",
       "    <tr style=\"text-align: right;\">\n",
       "      <th>species</th>\n",
       "      <th>setosa</th>\n",
       "      <th>versicolor</th>\n",
       "      <th>virginica</th>\n",
       "    </tr>\n",
       "  </thead>\n",
       "  <tbody>\n",
       "    <tr>\n",
       "      <th>petal_length</th>\n",
       "      <td>1.0</td>\n",
       "      <td>3.0</td>\n",
       "      <td>4.5</td>\n",
       "    </tr>\n",
       "    <tr>\n",
       "      <th>sepal_length</th>\n",
       "      <td>4.3</td>\n",
       "      <td>4.9</td>\n",
       "      <td>4.9</td>\n",
       "    </tr>\n",
       "    <tr>\n",
       "      <th>sepal_width</th>\n",
       "      <td>2.3</td>\n",
       "      <td>2.0</td>\n",
       "      <td>2.2</td>\n",
       "    </tr>\n",
       "  </tbody>\n",
       "</table>\n",
       "</div>"
      ],
      "text/plain": [
       "species       setosa  versicolor  virginica\n",
       "petal_length     1.0         3.0        4.5\n",
       "sepal_length     4.3         4.9        4.9\n",
       "sepal_width      2.3         2.0        2.2"
      ]
     },
     "execution_count": 45,
     "metadata": {},
     "output_type": "execute_result"
    }
   ],
   "source": [
    "iris = pd.read_csv('https://raw.githubusercontent.com/mwaskom/seaborn-data/master/iris.csv')\n",
    "iris = iris.pivot_table(values=[\"sepal_length\", \"sepal_width\", \"petal_length\"], columns=\"species\", aggfunc=\"min\")\n",
    "\n",
    "iris"
   ]
  },
  {
   "cell_type": "code",
   "execution_count": 51,
   "metadata": {},
   "outputs": [],
   "source": [
    "dados.to_excel(\"Dados CVM Tratados.xlsx\")\n",
    "iris.to_excel(\"Iris.xlsx\")"
   ]
  },
  {
   "cell_type": "code",
   "execution_count": 53,
   "metadata": {},
   "outputs": [],
   "source": [
    "# Context Manager\n",
    "\n",
    "with pd.ExcelWriter(\"Meta Excel.xlsx\") as writer: # import pandas as pd\n",
    "    dados.to_excel(writer, sheet_name=\"CVM\")\n",
    "    iris.to_excel(writer, sheet_name=\"Iris\")"
   ]
  }
 ],
 "metadata": {
  "kernelspec": {
   "display_name": "Python 3",
   "language": "python",
   "name": "python3"
  },
  "language_info": {
   "codemirror_mode": {
    "name": "ipython",
    "version": 3
   },
   "file_extension": ".py",
   "mimetype": "text/x-python",
   "name": "python",
   "nbconvert_exporter": "python",
   "pygments_lexer": "ipython3",
   "version": "3.11.3"
  }
 },
 "nbformat": 4,
 "nbformat_minor": 2
}
